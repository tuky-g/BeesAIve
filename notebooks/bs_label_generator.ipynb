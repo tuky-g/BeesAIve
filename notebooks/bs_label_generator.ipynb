{
 "cells": [
  {
   "cell_type": "markdown",
   "metadata": {
    "id": "CrOAMhf1SdxM"
   },
   "source": [
    "# Label generator\n",
    "\n",
    "This notebook allows you to generate a CSV from the images contained in the project's dataset folders, which contains information about:\n",
    "\n",
    "* `file_name` - Image file name.\n",
    "* `label` - The label of the class to which the image belongs (`bee`, `other_insect`, `other_noinsect`, `wasp`).\n",
    "* `file_path` - Composed of the name of the image and the name of the folder that contains it. We will need it later when generating the data to train the model.\n",
    "\n",
    "It also allows us to divide the dataset into training, validation and test subsets."
   ]
  },
  {
   "cell_type": "code",
   "execution_count": 1,
   "metadata": {
    "id": "-Im6t1V3uKt6"
   },
   "outputs": [],
   "source": [
    "import os\n",
    "from glob import glob\n",
    "import pandas as pd\n",
    "from sklearn.model_selection import train_test_split"
   ]
  },
  {
   "cell_type": "code",
   "execution_count": 4,
   "metadata": {},
   "outputs": [],
   "source": [
    "DATASET_PATH = '../dataset'\n",
    "CSV_PATH = '../'"
   ]
  },
  {
   "cell_type": "markdown",
   "metadata": {
    "id": "48xVMn0mSsgK"
   },
   "source": [
    "## Import images path\n",
    "\n",
    "We create a list with the paths to all the images in our dataset."
   ]
  },
  {
   "cell_type": "code",
   "execution_count": 5,
   "metadata": {
    "id": "M1OdhB0JuOVj"
   },
   "outputs": [],
   "source": [
    "image_files = sorted(glob(os.path.join(DATASET_PATH, '**', '*.*'), recursive=True))"
   ]
  },
  {
   "cell_type": "code",
   "execution_count": 6,
   "metadata": {
    "colab": {
     "base_uri": "https://localhost:8080/"
    },
    "id": "4Aboplq9xAZU",
    "outputId": "f9f4c2d4-2b6e-4799-abf0-e79d5ae28453"
   },
   "outputs": [
    {
     "data": {
      "text/plain": [
       "12653"
      ]
     },
     "execution_count": 6,
     "metadata": {},
     "output_type": "execute_result"
    }
   ],
   "source": [
    "len(image_files)"
   ]
  },
  {
   "cell_type": "code",
   "execution_count": 7,
   "metadata": {
    "colab": {
     "base_uri": "https://localhost:8080/"
    },
    "id": "JGUVVuDPxltq",
    "outputId": "16aefe0d-4d90-4309-a256-9c38ce3a29d5"
   },
   "outputs": [
    {
     "data": {
      "text/plain": [
       "['dataset/bee/10007154554_026417cfd0_n.jpg',\n",
       " 'dataset/bee/10024864894_6dc54d4b34_n.jpg',\n",
       " 'dataset/bee/10092043833_7306dfd1f0_n.jpg',\n",
       " 'dataset/bee/1011948979_fc3637e779_w.jpg',\n",
       " 'dataset/bee/10128235063_dca17db76c_n.jpg']"
      ]
     },
     "execution_count": 7,
     "metadata": {},
     "output_type": "execute_result"
    }
   ],
   "source": [
    "image_files[:5]"
   ]
  },
  {
   "cell_type": "markdown",
   "metadata": {
    "id": "XBr7iJVzS4bI"
   },
   "source": [
    "## Create DataFrame with labels"
   ]
  },
  {
   "cell_type": "code",
   "execution_count": 8,
   "metadata": {
    "id": "gu82P73exo7E"
   },
   "outputs": [],
   "source": [
    "df = pd.DataFrame(image_files, columns=['path'])\n",
    "df['file_name'] = df['path'].apply(lambda x: os.path.basename(x))\n",
    "df['label'] = df['path'].apply(lambda x: os.path.basename(os.path.dirname(x)))\n",
    "df['file_path'] = df['label'] + '/' + df['file_name']\n",
    "df.drop('path', axis=1, inplace=True)"
   ]
  },
  {
   "cell_type": "code",
   "execution_count": 9,
   "metadata": {
    "colab": {
     "base_uri": "https://localhost:8080/",
     "height": 419
    },
    "id": "QArNyjXKyDQ_",
    "outputId": "c33cedfd-fc2d-4295-9a27-cb73f57c03e9"
   },
   "outputs": [
    {
     "data": {
      "text/html": [
       "<div>\n",
       "<style scoped>\n",
       "    .dataframe tbody tr th:only-of-type {\n",
       "        vertical-align: middle;\n",
       "    }\n",
       "\n",
       "    .dataframe tbody tr th {\n",
       "        vertical-align: top;\n",
       "    }\n",
       "\n",
       "    .dataframe thead th {\n",
       "        text-align: right;\n",
       "    }\n",
       "</style>\n",
       "<table border=\"1\" class=\"dataframe\">\n",
       "  <thead>\n",
       "    <tr style=\"text-align: right;\">\n",
       "      <th></th>\n",
       "      <th>file_name</th>\n",
       "      <th>label</th>\n",
       "      <th>file_path</th>\n",
       "    </tr>\n",
       "  </thead>\n",
       "  <tbody>\n",
       "    <tr>\n",
       "      <th>0</th>\n",
       "      <td>10007154554_026417cfd0_n.jpg</td>\n",
       "      <td>bee</td>\n",
       "      <td>bee/10007154554_026417cfd0_n.jpg</td>\n",
       "    </tr>\n",
       "    <tr>\n",
       "      <th>1</th>\n",
       "      <td>10024864894_6dc54d4b34_n.jpg</td>\n",
       "      <td>bee</td>\n",
       "      <td>bee/10024864894_6dc54d4b34_n.jpg</td>\n",
       "    </tr>\n",
       "    <tr>\n",
       "      <th>2</th>\n",
       "      <td>10092043833_7306dfd1f0_n.jpg</td>\n",
       "      <td>bee</td>\n",
       "      <td>bee/10092043833_7306dfd1f0_n.jpg</td>\n",
       "    </tr>\n",
       "    <tr>\n",
       "      <th>3</th>\n",
       "      <td>1011948979_fc3637e779_w.jpg</td>\n",
       "      <td>bee</td>\n",
       "      <td>bee/1011948979_fc3637e779_w.jpg</td>\n",
       "    </tr>\n",
       "    <tr>\n",
       "      <th>4</th>\n",
       "      <td>10128235063_dca17db76c_n.jpg</td>\n",
       "      <td>bee</td>\n",
       "      <td>bee/10128235063_dca17db76c_n.jpg</td>\n",
       "    </tr>\n",
       "    <tr>\n",
       "      <th>...</th>\n",
       "      <td>...</td>\n",
       "      <td>...</td>\n",
       "      <td>...</td>\n",
       "    </tr>\n",
       "    <tr>\n",
       "      <th>12648</th>\n",
       "      <td>wasp_image_93.jpg</td>\n",
       "      <td>wasp</td>\n",
       "      <td>wasp/wasp_image_93.jpg</td>\n",
       "    </tr>\n",
       "    <tr>\n",
       "      <th>12649</th>\n",
       "      <td>wasp_image_94.jpg</td>\n",
       "      <td>wasp</td>\n",
       "      <td>wasp/wasp_image_94.jpg</td>\n",
       "    </tr>\n",
       "    <tr>\n",
       "      <th>12650</th>\n",
       "      <td>wasp_image_95.jpg</td>\n",
       "      <td>wasp</td>\n",
       "      <td>wasp/wasp_image_95.jpg</td>\n",
       "    </tr>\n",
       "    <tr>\n",
       "      <th>12651</th>\n",
       "      <td>wasp_image_97.jpg</td>\n",
       "      <td>wasp</td>\n",
       "      <td>wasp/wasp_image_97.jpg</td>\n",
       "    </tr>\n",
       "    <tr>\n",
       "      <th>12652</th>\n",
       "      <td>wasp_image_98.jpg</td>\n",
       "      <td>wasp</td>\n",
       "      <td>wasp/wasp_image_98.jpg</td>\n",
       "    </tr>\n",
       "  </tbody>\n",
       "</table>\n",
       "<p>12653 rows × 3 columns</p>\n",
       "</div>"
      ],
      "text/plain": [
       "                          file_name label                         file_path\n",
       "0      10007154554_026417cfd0_n.jpg   bee  bee/10007154554_026417cfd0_n.jpg\n",
       "1      10024864894_6dc54d4b34_n.jpg   bee  bee/10024864894_6dc54d4b34_n.jpg\n",
       "2      10092043833_7306dfd1f0_n.jpg   bee  bee/10092043833_7306dfd1f0_n.jpg\n",
       "3       1011948979_fc3637e779_w.jpg   bee   bee/1011948979_fc3637e779_w.jpg\n",
       "4      10128235063_dca17db76c_n.jpg   bee  bee/10128235063_dca17db76c_n.jpg\n",
       "...                             ...   ...                               ...\n",
       "12648             wasp_image_93.jpg  wasp            wasp/wasp_image_93.jpg\n",
       "12649             wasp_image_94.jpg  wasp            wasp/wasp_image_94.jpg\n",
       "12650             wasp_image_95.jpg  wasp            wasp/wasp_image_95.jpg\n",
       "12651             wasp_image_97.jpg  wasp            wasp/wasp_image_97.jpg\n",
       "12652             wasp_image_98.jpg  wasp            wasp/wasp_image_98.jpg\n",
       "\n",
       "[12653 rows x 3 columns]"
      ]
     },
     "execution_count": 9,
     "metadata": {},
     "output_type": "execute_result"
    }
   ],
   "source": [
    "df"
   ]
  },
  {
   "cell_type": "markdown",
   "metadata": {
    "id": "JSdto01zTvJD"
   },
   "source": [
    "We check that we have the labels we need."
   ]
  },
  {
   "cell_type": "code",
   "execution_count": 10,
   "metadata": {
    "colab": {
     "base_uri": "https://localhost:8080/"
    },
    "id": "9zhhyCJtzjbG",
    "outputId": "ce282d31-f779-4370-e3f7-4952c7d235ea"
   },
   "outputs": [
    {
     "data": {
      "text/plain": [
       "array(['bee', 'other_insect', 'other_noinsect', 'wasp'], dtype=object)"
      ]
     },
     "execution_count": 10,
     "metadata": {},
     "output_type": "execute_result"
    }
   ],
   "source": [
    "df.label.unique()"
   ]
  },
  {
   "cell_type": "markdown",
   "metadata": {
    "id": "1f36tAxKT-OH"
   },
   "source": [
    "We check how many images we have of each class."
   ]
  },
  {
   "cell_type": "code",
   "execution_count": 11,
   "metadata": {
    "colab": {
     "base_uri": "https://localhost:8080/"
    },
    "id": "Itt9oan070Un",
    "outputId": "340ebcc3-e05b-4a79-834b-a9833e594925"
   },
   "outputs": [
    {
     "data": {
      "text/plain": [
       "wasp              3264\n",
       "bee               3232\n",
       "other_noinsect    3218\n",
       "other_insect      2939\n",
       "Name: label, dtype: int64"
      ]
     },
     "execution_count": 11,
     "metadata": {},
     "output_type": "execute_result"
    }
   ],
   "source": [
    "df.label.value_counts()"
   ]
  },
  {
   "cell_type": "markdown",
   "metadata": {
    "id": "oYoL0eXBUFkI"
   },
   "source": [
    "## Split the data into training and test sets"
   ]
  },
  {
   "cell_type": "code",
   "execution_count": 13,
   "metadata": {
    "id": "_kcqS8uQUDp1"
   },
   "outputs": [],
   "source": [
    "train, test = train_test_split(df,\n",
    "                               test_size=0.2,\n",
    "                               random_state=42,\n",
    "                               stratify=df['label'])"
   ]
  },
  {
   "cell_type": "code",
   "execution_count": 14,
   "metadata": {
    "id": "_nTVQ-t4V2OQ"
   },
   "outputs": [],
   "source": [
    "val, test = train_test_split(test,\n",
    "                             test_size=0.5,\n",
    "                             random_state=42,\n",
    "                             stratify=test['label'])"
   ]
  },
  {
   "cell_type": "code",
   "execution_count": 15,
   "metadata": {
    "colab": {
     "base_uri": "https://localhost:8080/",
     "height": 419
    },
    "id": "3tUSPIxsV_OO",
    "outputId": "5825df2f-0bd9-4a21-b021-6e1173c4db44"
   },
   "outputs": [
    {
     "data": {
      "text/html": [
       "<div>\n",
       "<style scoped>\n",
       "    .dataframe tbody tr th:only-of-type {\n",
       "        vertical-align: middle;\n",
       "    }\n",
       "\n",
       "    .dataframe tbody tr th {\n",
       "        vertical-align: top;\n",
       "    }\n",
       "\n",
       "    .dataframe thead th {\n",
       "        text-align: right;\n",
       "    }\n",
       "</style>\n",
       "<table border=\"1\" class=\"dataframe\">\n",
       "  <thead>\n",
       "    <tr style=\"text-align: right;\">\n",
       "      <th></th>\n",
       "      <th>file_path</th>\n",
       "      <th>file_name</th>\n",
       "      <th>label</th>\n",
       "      <th>subset</th>\n",
       "    </tr>\n",
       "  </thead>\n",
       "  <tbody>\n",
       "    <tr>\n",
       "      <th>0</th>\n",
       "      <td>wasp/1331787019_ca513a7acf_n.jpg</td>\n",
       "      <td>1331787019_ca513a7acf_n.jpg</td>\n",
       "      <td>wasp</td>\n",
       "      <td>train</td>\n",
       "    </tr>\n",
       "    <tr>\n",
       "      <th>1</th>\n",
       "      <td>bee/14322267704_2ac34a2af2_n.jpg</td>\n",
       "      <td>14322267704_2ac34a2af2_n.jpg</td>\n",
       "      <td>bee</td>\n",
       "      <td>train</td>\n",
       "    </tr>\n",
       "    <tr>\n",
       "      <th>2</th>\n",
       "      <td>wasp/7382817412_b5a0f8c899_w.jpg</td>\n",
       "      <td>7382817412_b5a0f8c899_w.jpg</td>\n",
       "      <td>wasp</td>\n",
       "      <td>train</td>\n",
       "    </tr>\n",
       "    <tr>\n",
       "      <th>3</th>\n",
       "      <td>wasp/4250759545_eb707b1145_n.jpg</td>\n",
       "      <td>4250759545_eb707b1145_n.jpg</td>\n",
       "      <td>wasp</td>\n",
       "      <td>train</td>\n",
       "    </tr>\n",
       "    <tr>\n",
       "      <th>4</th>\n",
       "      <td>other_insect/insect3.jpg</td>\n",
       "      <td>insect3.jpg</td>\n",
       "      <td>other_insect</td>\n",
       "      <td>train</td>\n",
       "    </tr>\n",
       "    <tr>\n",
       "      <th>...</th>\n",
       "      <td>...</td>\n",
       "      <td>...</td>\n",
       "      <td>...</td>\n",
       "      <td>...</td>\n",
       "    </tr>\n",
       "    <tr>\n",
       "      <th>12648</th>\n",
       "      <td>other_insect/44233106205_938f38751a_n.jpg</td>\n",
       "      <td>44233106205_938f38751a_n.jpg</td>\n",
       "      <td>other_insect</td>\n",
       "      <td>test</td>\n",
       "    </tr>\n",
       "    <tr>\n",
       "      <th>12649</th>\n",
       "      <td>other_noinsect/animal_image_385.jpg</td>\n",
       "      <td>animal_image_385.jpg</td>\n",
       "      <td>other_noinsect</td>\n",
       "      <td>test</td>\n",
       "    </tr>\n",
       "    <tr>\n",
       "      <th>12650</th>\n",
       "      <td>wasp/J00321.jpg</td>\n",
       "      <td>J00321.jpg</td>\n",
       "      <td>wasp</td>\n",
       "      <td>test</td>\n",
       "    </tr>\n",
       "    <tr>\n",
       "      <th>12651</th>\n",
       "      <td>wasp/39517028_0f3fbfed55_n.jpg</td>\n",
       "      <td>39517028_0f3fbfed55_n.jpg</td>\n",
       "      <td>wasp</td>\n",
       "      <td>test</td>\n",
       "    </tr>\n",
       "    <tr>\n",
       "      <th>12652</th>\n",
       "      <td>other_insect/951290752_fa8db8ad06_m.jpg</td>\n",
       "      <td>951290752_fa8db8ad06_m.jpg</td>\n",
       "      <td>other_insect</td>\n",
       "      <td>test</td>\n",
       "    </tr>\n",
       "  </tbody>\n",
       "</table>\n",
       "<p>12653 rows × 4 columns</p>\n",
       "</div>"
      ],
      "text/plain": [
       "                                       file_path  \\\n",
       "0               wasp/1331787019_ca513a7acf_n.jpg   \n",
       "1               bee/14322267704_2ac34a2af2_n.jpg   \n",
       "2               wasp/7382817412_b5a0f8c899_w.jpg   \n",
       "3               wasp/4250759545_eb707b1145_n.jpg   \n",
       "4                       other_insect/insect3.jpg   \n",
       "...                                          ...   \n",
       "12648  other_insect/44233106205_938f38751a_n.jpg   \n",
       "12649        other_noinsect/animal_image_385.jpg   \n",
       "12650                            wasp/J00321.jpg   \n",
       "12651             wasp/39517028_0f3fbfed55_n.jpg   \n",
       "12652    other_insect/951290752_fa8db8ad06_m.jpg   \n",
       "\n",
       "                          file_name           label subset  \n",
       "0       1331787019_ca513a7acf_n.jpg            wasp  train  \n",
       "1      14322267704_2ac34a2af2_n.jpg             bee  train  \n",
       "2       7382817412_b5a0f8c899_w.jpg            wasp  train  \n",
       "3       4250759545_eb707b1145_n.jpg            wasp  train  \n",
       "4                       insect3.jpg    other_insect  train  \n",
       "...                             ...             ...    ...  \n",
       "12648  44233106205_938f38751a_n.jpg    other_insect   test  \n",
       "12649          animal_image_385.jpg  other_noinsect   test  \n",
       "12650                    J00321.jpg            wasp   test  \n",
       "12651     39517028_0f3fbfed55_n.jpg            wasp   test  \n",
       "12652    951290752_fa8db8ad06_m.jpg    other_insect   test  \n",
       "\n",
       "[12653 rows x 4 columns]"
      ]
     },
     "execution_count": 15,
     "metadata": {},
     "output_type": "execute_result"
    }
   ],
   "source": [
    "df_f = pd.concat([train,val,test], keys=['train', 'validation', 'test']).reset_index()\n",
    "df_f.drop('level_1', axis=1, inplace=True)\n",
    "df_f = df_f.rename({'level_0': 'subset'}, axis=1)\n",
    "df_f = df_f[['file_path', 'file_name', 'label', 'subset']]\n",
    "df_f"
   ]
  },
  {
   "cell_type": "markdown",
   "metadata": {
    "id": "clwka3qeUSTm"
   },
   "source": [
    "We check how many images we have of each type."
   ]
  },
  {
   "cell_type": "code",
   "execution_count": 16,
   "metadata": {
    "colab": {
     "base_uri": "https://localhost:8080/"
    },
    "id": "F50fwwZIYj5p",
    "outputId": "5dc52c6d-bd9f-49c2-e2cf-2edcc428a304"
   },
   "outputs": [
    {
     "data": {
      "text/plain": [
       "subset\n",
       "train         10122\n",
       "test           1266\n",
       "validation     1265\n",
       "dtype: int64"
      ]
     },
     "execution_count": 16,
     "metadata": {},
     "output_type": "execute_result"
    }
   ],
   "source": [
    "df_f.value_counts('subset')"
   ]
  },
  {
   "cell_type": "markdown",
   "metadata": {
    "id": "Q1hngI5tUV3Y"
   },
   "source": [
    "## EExport CSV with data"
   ]
  },
  {
   "cell_type": "code",
   "execution_count": 17,
   "metadata": {
    "id": "e7lnuDaP7K1_"
   },
   "outputs": [],
   "source": [
    "df_f.to_csv(os.path.join(CSV_PATH, 'bs_labels.csv'), index=False)"
   ]
  },
  {
   "cell_type": "code",
   "execution_count": null,
   "metadata": {
    "id": "2YKKcDCi_YPw"
   },
   "outputs": [],
   "source": []
  }
 ],
 "metadata": {
  "accelerator": "GPU",
  "colab": {
   "collapsed_sections": [],
   "name": "bs_label_generator.ipynb",
   "provenance": []
  },
  "hide_input": false,
  "kernelspec": {
   "display_name": "Python 3",
   "language": "python",
   "name": "python3"
  },
  "language_info": {
   "codemirror_mode": {
    "name": "ipython",
    "version": 3
   },
   "file_extension": ".py",
   "mimetype": "text/x-python",
   "name": "python",
   "nbconvert_exporter": "python",
   "pygments_lexer": "ipython3",
   "version": "3.9.4"
  },
  "toc": {
   "base_numbering": 1,
   "nav_menu": {},
   "number_sections": true,
   "sideBar": true,
   "skip_h1_title": false,
   "title_cell": "Table of Contents",
   "title_sidebar": "Contents",
   "toc_cell": false,
   "toc_position": {},
   "toc_section_display": true,
   "toc_window_display": false
  },
  "varInspector": {
   "cols": {
    "lenName": 16,
    "lenType": 16,
    "lenVar": 40
   },
   "kernels_config": {
    "python": {
     "delete_cmd_postfix": "",
     "delete_cmd_prefix": "del ",
     "library": "var_list.py",
     "varRefreshCmd": "print(var_dic_list())"
    },
    "r": {
     "delete_cmd_postfix": ") ",
     "delete_cmd_prefix": "rm(",
     "library": "var_list.r",
     "varRefreshCmd": "cat(var_dic_list()) "
    }
   },
   "types_to_exclude": [
    "module",
    "function",
    "builtin_function_or_method",
    "instance",
    "_Feature"
   ],
   "window_display": false
  }
 },
 "nbformat": 4,
 "nbformat_minor": 1
}
